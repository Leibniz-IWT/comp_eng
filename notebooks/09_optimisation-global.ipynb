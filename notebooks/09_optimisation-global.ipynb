{
 "cells": [
  {
   "cell_type": "markdown",
   "id": "eca0d083",
   "metadata": {},
   "source": [
    "# 09 Optimisation-Global\n",
    "\n",
    "_Placeholder – content coming soon._"
   ]
  }
 ],
 "metadata": {
  "kernelspec": {
   "display_name": "Python 3",
   "name": "python3"
  }
 },
 "nbformat": 4,
 "nbformat_minor": 5
}
