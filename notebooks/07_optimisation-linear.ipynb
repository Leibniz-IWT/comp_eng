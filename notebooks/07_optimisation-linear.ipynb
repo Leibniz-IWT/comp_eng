{
 "cells": [
  {
   "cell_type": "markdown",
   "id": "ef5535be",
   "metadata": {},
   "source": [
    "# 07 Optimisation-Linear\n",
    "\n",
    "_Placeholder – content coming soon._"
   ]
  }
 ],
 "metadata": {
  "kernelspec": {
   "display_name": "Python 3",
   "name": "python3"
  }
 },
 "nbformat": 4,
 "nbformat_minor": 5
}
