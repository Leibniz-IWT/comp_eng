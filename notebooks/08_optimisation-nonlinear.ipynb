{
 "cells": [
  {
   "cell_type": "markdown",
   "id": "bfd7799a",
   "metadata": {},
   "source": [
    "# 08 Optimisation-Nonlinear\n",
    "\n",
    "_Placeholder – content coming soon._"
   ]
  }
 ],
 "metadata": {
  "kernelspec": {
   "display_name": "Python 3",
   "name": "python3"
  }
 },
 "nbformat": 4,
 "nbformat_minor": 5
}
