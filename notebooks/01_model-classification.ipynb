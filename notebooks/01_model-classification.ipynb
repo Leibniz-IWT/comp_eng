{
 "cells": [
  {
   "metadata": {},
   "cell_type": "markdown",
   "source": [
    "# Model classification I – building blocks\n",
    "\n",
    "<div style=\"text-align: center; font-style: italic;\">\n",
    "\n",
    "“A problem well stated is a problem half-solved.”\n",
    "\n",
    "</div>\n",
    "\n",
    "<div style=\"text-align: right;\">\n",
    "\n",
    "— Charles F. Kettering\n",
    "\n",
    "</div>\n",
    "\n",
    "\n",
    "## 1 Model classification and structure\n",
    "\n",
    "### 1.1 What are models?  From toy cathedrals to floating point arithmetic\n",
    "\n",
    "<div style=\"text-align: center; font-style: italic;\">\n",
    "To measure is to know.\n",
    "</div>\n",
    "\n",
    "<div style=\"text-align: right;\">\n",
    "\n",
    "— William Thomson (Lord Kelvin), 1883\n",
    "\n",
    "</div>\n",
    "\n",
    "\n",
    "While we often think of models as mathematical equations, the mathematication of nature is a relatively recent development in the history of science and engineering. Models have existed in various forms for centuries, evolving from physical constructions to modern abstract mathematical representations. Some historical milestones in the practice of modelling include:\n",
    "\n",
    "### 1.2 **Medieval (Physical (literal) models)**\n",
    " -  Medieval master-builders often erected stick-and-string scale models of vaults and domes to study thrust lines.\n",
    " -  **Brunelleschi’s** herringbone brick pattern for the Florence Duomo (1430s) was tested on a wooden mock-up before construction.\n",
    "\n",
    "<img src=\"./images/1_1_brunelleschi_dome_wood_model.jpg\"\n",
    "     alt=\"Brunelleschi's dome wood model (The Opera del Duomo Museum in Florence), CC 4.0 license\"\n",
    "     width=\"400\">\n",
    "\n",
    " - These tangible artefacts embodied the equilibrium of forces as a precursor to statics theory, itself a precursor to more complex mathematized models of nature such as Newtonian Physics.\n",
    "\n",
    "### 1.3 **Early mathematical models (smooth models)**\n",
    "\n",
    "  - **Jordanus de Nemore** (13 th c.) treated levers and centres of gravity with geometric abstraction.\n",
    "\n",
    "<img src=\"./images/1_2_Jornadus.jpg\"\n",
    "     alt=\"Jordanus de Nemore's treament of levers was the first explicit use of force components in the development of statics, built on Archimedes' lever law, CC 3.0 license (echo, mpiwg, 2015)\"\n",
    "     width=\"400\">\n",
    "\n",
    "  - **Galileo Galilei** (1600s) introduced the concept of inertia and the first mathematical model of motion, laying the groundwork for classical mechanics.\n",
    "  - **Isaac Newton's** _Principia_ (1687) ushered in the era of mathematical physics, introducing calculus to describe motion and forces.\n",
    "  - **Leonhard Euler** (1740s) and **D’Alembert** introduced differential equations to describe beams, fluids, and celestial mechanics.\n",
    "    Euler’s equation for a buckling column is still taught today.\n",
    "\n",
    "### 1.4 **Modern, discrete models (numerical models)**\n",
    "  - Early hand computations by Isaac Newton, Gottfried Wilhelm Leibniz and others laid the groundwork for numerical methods.\n",
    "  - First general purpose high level programming language Plankalkül (1942), Claude Shannon’s information theory (1948) and von Neumann’s stored-program computer made it routine to encode physics directly in software.\n",
    "\n",
    "Our focus in this module is on discrete or digital models, which are fundamentally different to both physical and smooth models in a subtle and important way: while smooth mathematical models can often admit exact solutions, discretized models -by contrast- rarely admit exact solutions. This is not only due to numerical errors, but due to the fact that these models live in an entirely different space and number system. E.g. smooth models often have scalar variables represented by real numbers ($\\mathbb{R}^n$) which is _not_ a computational structure! By contrast models for control systems often rely on a discrete $\\mathbb{Z}^n$ representation of scalar variables arising from inherently discrete measurements in the control loop.\n",
    "\n",
    "For the purposes of this course, we will define a model as follows:\n",
    ">\n",
    "> **Definition:** A *model* is an abstraction which is a deliberate simplification of nature that allows quantitative prediction.\n",
    "\n",
    "In order to make predictions with *computational models*, it is essential to correctly classify them in order to find the correct abstracted method for their solutions which in turn is used to predict the outcome of systems such as the dynamics spacecraft, robots, or chemical processes. Later we will study the optimization (design, parameterisation) and control of systems.\n",
    "\n",
    "---\n",
    "\n",
    "## 2 Classification of models\n",
    "\n",
    "Models admit different *structures* which can be classified in order to gain better understanding of their properties. Once a model has been classified it becomes easier to compute. Understanding the limitations of state-of-the-art methods used to solve different model types is essential to both model development and computational efficiency of solutions.\n",
    "\n",
    "When trying to solve your computational problem model classification tells you:\n",
    "\n",
    "* Which numerical methods will work.\n",
    "* The expected accuracy and computational cost of solving the system.\n",
    "* Whether you can exploit powerful results from linear-system theory (superposition, symmetry, modal analysis, controllability, etc.).\n",
    "\n",
    "\n",
    "\n"
   ],
   "id": "acdb5d189243020"
  },
  {
   "metadata": {},
   "cell_type": "markdown",
   "source": [
    "### 2.1 Static vs. dynamic\n",
    "\n",
    "Models differ in their treatment of time: static models describe systems at equilibrium where time derivatives are zero, focusing on steady-state solutions. Dynamic models incorporate time evolution, capturing transient behaviors and responses to inputs. This classification guides the choice of solvers: algebraic for static, integrators for dynamic—and is vital in fields like spacecraft trajectory planning, where static approximations may suffice for equilibrium orbits but dynamics are essential for maneuvers.\n",
    "\n",
    "|                               | Static                                                                                                                                         | Dynamic                                                                                                                                                                   |\n",
    "|-------------------------------|------------------------------------------------------------------------------------------------------------------------------------------------|---------------------------------------------------------------------------------------------------------------------------------------------------------------------------|\n",
    "| Abstraction                   | $\\mathbf{f}(\\mathbf{x}) = \\mathbf{0}$ (no time derivatives)                                                                                    | $\\frac{d\\mathbf{y}}{dt} = \\mathbf{f}(\\mathbf{y}, \\mathbf{x}, t)$ or $\\mathbf{y}(t+1) = \\mathbf{f}(\\mathbf{y}(t), \\mathbf{x})$                                             |\n",
    "| Typical mathematized examples | $A\\mathbf{x} = \\mathbf{b}$ (linear system) <br> $\\nabla^2 x = c$ (Poisson's equation) <br>$\\nabla \\cdot (k \\nabla T) = 0$ (steady-state heat) | $\\frac{dy}{dt} = -k x$ (exponential decay) <br>$\\frac{d^2y}{dt^2} + \\omega^2 x = 0$ (simple harmonic motion)   <br> $\\frac{\\partial y}{dt} = k \\nabla^2 T$ (dynamic heat) |\n",
    "| Examples in nature            | Truss analysis in civil engineering (equilibrium forces); <br>Steady-state heat conduction in a satellite panel                                | Launch trajectory optimization (time-varying thrust); <br>Satellite attitude slew maneuver (rotational dynamics over time)                                                |\n",
    "\n",
    "> **Definition:** Let $\\mathcal{x}$ be a state space and $\\mathcal{F}$ a model mapping. The model is **static** if $\\mathcal{X} : \\mathcal{X} \\to \\mathcal{X}$ does not explicitly depend on time $t$ and involves no time derivatives (i.e., equilibrium conditions). It is **dynamic** if $\\mathcal{F} : \\mathcal{Y} \\times \\mathbb{R} \\to \\mathcal{Y}$ includes time derivatives or discrete time steps, describing evolution over $t \\in \\mathbb{R}$ or $t \\in \\mathbb{Z}$.\n",
    "\n",
    "#### Static problems\n",
    "\n",
    "Static problems typically arise from modelling physical and chemical systems at equilibrium, where the state does not change over time. These problems can be represented by algebraic equations, differential- or partial differential equations (PDEs) that describe the relationships between variables without involving time derivatives. Examples include structural analysis (statics and strength of materials), heat conduction, and fluid statics. It should be noted that time is not absent in static models, but rather the variables in the equations are not affected by time. For example, financial models may be static in the sense that they do not change over time, but they still involve variables that are functions of time, such as interest rates or stock prices. Such models are important in engineering when optimizing systems for cost saving or computing expected cash flows due to production, maintenance or repairs etc. which accumulate over time.\n",
    "\n",
    "#### Static solvers\n",
    "Static equations are typically solved with _root-finding_ methods, which find the roots of the residual function $\\mathbf{F}(\\mathbf{x}) = \\mathbf{0}$, where $\\mathbf{F}$ encodes the algebraic system such as a vector of functions. Common numerical methods such as those implemented in scipy include:\n",
    "\n",
    "##### Common SciPy-based approaches\n",
    "| Problem type                        | scipy implementation                              | Notes                                            |\n",
    "|-------------------------------------|---------------------------------------------------|--------------------------------------------------|\n",
    "| **Scalar, nonlinear**               | `scipy.optimize.root_scalar`                      | Bisection, secant, Brent, Ridder …               |\n",
    "| **Vector, nonlinear**               | `scipy.optimize.root` <br>`scipy.optimize.fsolve` | Newton–Krylov, hybr, Levenberg–Marquardt         |\n",
    "| **Least-squares residuals**         | `scipy.optimize.least_squares`                    | Gauss-Newton, trust-region reflective            |\n",
    "| **Fixed-point iteration**           | `scipy.optimize.fixed_point`                      | Finds $x = f(x)$ directly                        |\n",
    "| **Dense linear system**             | `scipy.linalg.solve`                              | $A\\mathbf{x} = \\mathbf{b}$ with LU factorisation |\n",
    "| **Sparse linear system**            | `scipy.sparse.linalg.spsolve`                     | For large, sparse $A$                            |\n",
    "\n",
    "---\n",
    "\n",
    "\n",
    "The simples example is solving a non-linear single variable equation such as $f(x) = x^2 - 5 = 0$ using `scipy.optimize.root_scalar`:\n"
   ],
   "id": "b71272f9a93bb32c"
  },
  {
   "metadata": {},
   "cell_type": "code",
   "source": [
    "from scipy.optimize import root_scalar\n",
    "\n",
    "f = lambda x: x**2 - 5\n",
    "sol = root_scalar(f, bracket=[0, 3], method='brentq')\n",
    "\n",
    "print(f\"Root = {sol.root:.6f}\")        # ~2.236068 (≈ √5)"
   ],
   "id": "c032048474872dd2",
   "outputs": [
    {
     "name": "stdout",
     "output_type": "stream",
     "text": [
      "Root = 2.236068\n"
     ]
    }
   ],
   "execution_count": 1
  },
  {
   "metadata": {},
   "cell_type": "markdown",
   "source": "Most systems engineers will deal with are multivariate, which is still solved with the same methods, but now the residual function $\\mathbf{F}(\\mathbf{x})$ is a vector of functions. The simplest example is solving a linear system of equations such as $Ax = b$ using `scipy.linalg.solve`:",
   "id": "9ca09a298e530294"
  },
  {
   "metadata": {
    "ExecuteTime": {
     "end_time": "2025-08-15T01:16:55.381826Z",
     "start_time": "2025-08-15T01:16:55.369369Z"
    }
   },
   "cell_type": "code",
   "source": [
    "import numpy as np\n",
    "from scipy.linalg import solve\n",
    "\n",
    "A = np.array([[3.0, 1.0],\n",
    "              [1.0, 2.0]])\n",
    "b = np.array([9.0, 8.0])\n",
    "\n",
    "x = solve(A, b)        # direct LU factorisation\n",
    "print(\"x =\", x)        # → [2. 3.]"
   ],
   "id": "621fc9fe37cb64bf",
   "outputs": [
    {
     "name": "stdout",
     "output_type": "stream",
     "text": [
      "x = [2. 3.]\n"
     ]
    }
   ],
   "execution_count": 2
  },
  {
   "metadata": {},
   "cell_type": "markdown",
   "source": "An important concept in solving complex non-linear models accurately and efficiently is the notion of the Jacobian matrix, which is the matrix of all first-order partial derivatives of the residual function $\\mathbf{F}(\\mathbf{x})$. The Jacobian is used to improve convergence in iterative methods such as Newton's method and will be discussed in more detail in [\"Week 4: Simulation I – algebraic systems\"](../notebooks/04_simulation-algebraic.ipynb)\n",
   "id": "39aa105e6e318087"
  },
  {
   "metadata": {},
   "cell_type": "markdown",
   "source": [
    "####  Example: Steady-state heat conduction on a square plate\n",
    "\n",
    "Below is a more complex model of the Laplace equation $\\nabla\\!\\cdot\\!\\bigl(k\\nabla T\\bigr)=0$ with Dirichlet boundary condition. Such complex systems involving gradients can still be solved with the same root solver abstractions. It's important to get comfortable with the geometric meaning of operators like $\\nabla$ for which static models become a great tool to gain deeper understanding for yourself with respect to its effect on scalar and vector fields. In the demonstration below you can interactively change the temperature on the top edge of the plate and see how the steady-state temperature scalar field changes.\n",
    "\n",
    "The solution is computed using a root-finding method that iteratively solves for the temperature at each grid point until convergence is reached. Later we will learn a lot about how operators such as $\\nabla$ can be discretized, analyzed for stability and solved efficiently using numerical methods such as finite difference, finite element or finite volume methods. The example below is a simple finite difference method that uses the average of the neighbouring grid points to compute the temperature at each point in the grid."
   ],
   "id": "b6e3cc7630b43ff0"
  },
  {
   "metadata": {
    "ExecuteTime": {
     "end_time": "2025-08-15T01:16:56.592916Z",
     "start_time": "2025-08-15T01:16:55.423896Z"
    }
   },
   "cell_type": "code",
   "source": [
    "import numpy as np\n",
    "import matplotlib.pyplot as plt\n",
    "from scipy.optimize import root\n",
    "from ipywidgets import interact, FloatSlider\n",
    "\n",
    "# --- geometry (small grid keeps each update <1 s) ------------------------------\n",
    "nx = ny = 40\n",
    "T_left, T_right, T_bot = 25, 25, 0     # fixed BCs on three sides\n",
    "N = (nx - 2) * (ny - 2)\n",
    "idx = lambda i, j: (i - 1) * (nx - 2) + (j - 1)\n",
    "\n",
    "def solve_laplace(T_top):\n",
    "    \"\"\"Return full temperature field for a given top-edge BC.\"\"\"\n",
    "    # residual uses closure to capture T_top\n",
    "    def F(x):\n",
    "        r = np.empty_like(x)\n",
    "        for i in range(1, ny - 1):\n",
    "            for j in range(1, nx - 1):\n",
    "                k   = idx(i, j)\n",
    "                Tij = x[k]\n",
    "\n",
    "                Tl = x[idx(i, j-1)] if j > 1     else T_left\n",
    "                Tr = x[idx(i, j+1)] if j < nx-2  else T_right\n",
    "                Tu = x[idx(i-1, j)] if i > 1     else T_top   # << slider\n",
    "                Td = x[idx(i+1, j)] if i < ny-2  else T_bot\n",
    "\n",
    "                r[k] = Tij - 0.25 * (Tl + Tr + Tu + Td)\n",
    "        return r\n",
    "\n",
    "    sol = root(F, np.zeros(N), method='krylov', tol=1e-10)\n",
    "    x   = sol.x.reshape(ny-2, nx-2)\n",
    "\n",
    "    # assemble full array including boundaries\n",
    "    T = np.zeros((ny, nx))\n",
    "    T[0, :]  = T_top\n",
    "    T[:, 0]  = T_left\n",
    "    T[:, -1] = T_right\n",
    "    T[-1, :] = T_bot\n",
    "    T[1:-1, 1:-1] = x\n",
    "    return T\n",
    "\n",
    "# --- interactive plot ----------------------------------------------------------\n",
    "@interact(T_top=FloatSlider(value=100., min=0., max=150., step=5.,\n",
    "                            description='Top BC [°C]'))\n",
    "def plot_plate(T_top):\n",
    "    T = solve_laplace(T_top)\n",
    "\n",
    "    plt.figure(figsize=(5, 4))\n",
    "    plt.imshow(T, origin='lower', cmap='inferno', extent=[0, 1, 0, 1])\n",
    "    plt.colorbar(label='Temperature [°C]')\n",
    "    plt.title(f'Steady-state plate temperature (T_top = {T_top:.0f} °C)')\n",
    "    plt.xlabel('x'); plt.ylabel('y')\n",
    "    plt.tight_layout(); plt.show()"
   ],
   "id": "ea0bd9398c74a86e",
   "outputs": [
    {
     "data": {
      "text/plain": [
       "interactive(children=(FloatSlider(value=100.0, description='Top BC [°C]', max=150.0, step=5.0), Output()), _do…"
      ],
      "application/vnd.jupyter.widget-view+json": {
       "version_major": 2,
       "version_minor": 0,
       "model_id": "359e13b2c3a94b5db7f4e713d52cb177"
      }
     },
     "metadata": {},
     "output_type": "display_data"
    }
   ],
   "execution_count": 3
  },
  {
   "metadata": {},
   "cell_type": "markdown",
   "source": [
    "#### Dynamic problems\n",
    "\n",
    "Dynamic problems arise whenever the state of a system **changes with time**.\n",
    "The governing equations therefore contain **time derivatives** (continuous-time\n",
    "models) or **time steps** (discrete-time models).\n",
    "For space engineers these include orbit propagation, attitude control, launch\n",
    "ascent, thermal-soak transients, chemical-reaction kinetics, and coupled\n",
    "orbit–attitude simulations.\n",
    "\n",
    "Mathematically we meet\n",
    "\n",
    "* **ODEs**  $\\displaystyle\\frac{d\\mathbf{y}}{dt}= \\mathbf{f}(\\mathbf{y},\\mathbf{x},t)$\n",
    "  (rigid-body attitude, electrical RC networks, reaction wheels),\n",
    "* **DAEs** $\\displaystyle\\mathbf{F}(\\mathbf{y},t), \\frac{d\\mathbf{y}}{dt}=\\mathbf{g}(\\mathbf{y},t)$\n",
    "  (constrained multibody, orbital rendezvous with thruster constraints),\n",
    "* **Time-dependent PDEs** $\\displaystyle\\frac{\\partial T}{\\partial t}=k\\nabla^2T$\n",
    "  (transient heat in a re-entry shield, fluid slosh).\n",
    "\n",
    "The numerical goal is to advance the solution step-by-step so that $\\mathbf{y}(t_{n+1})$ approximates the true state at the next time index.\n",
    "\n",
    "#### Dynamic solvers\n",
    "\n",
    "Unlike static root-finders, dynamic solvers are **integrators**.\n",
    "SciPy wraps most standard algorithms under a single façade—`scipy.integrate.solve_ivp`.\n",
    "\n",
    "| Problem type                              | SciPy implementation                                   | Notes |\n",
    "|-------------------------------------------|--------------------------------------------------------|-------|\n",
    "| **Non-stiff ODE**                         | `solve_ivp(method=\"RK45\")` (default)                   | Dormand–Prince (5/4) adaptive, energy-friendly for orbits |\n",
    "| **High-accuracy ODE**                     | `solve_ivp(method=\"DOP853\")`                           | 8-th order, good for long-term propagation |\n",
    "| **Stiff ODE / index-1 DAE**               | `solve_ivp(method=\"BDF\")`<br>`solve_ivp(method=\"Radau\")` | Implicit, variable-order multi-step / collocation |\n",
    "| **Mixed stiff/non-stiff (“auto”)**        | `solve_ivp(method=\"LSODA\")`                            | Switches between Adams and BDF (same core as ODEPACK) |\n",
    "| **Event detection (zero-crossing)**       | `solve_ivp(..., events=callbacks)`                     | Apogee/perigee, eclipse entry/exit, impact |\n",
    "| **Fixed-point map / discrete-time**       | Iterate \\(\\mathbf{y}_{k+1}=f(\\mathbf{y}_k,\\mathbf{x})\\) | One-line Python loop or `numpy.linalg.matrix_power` for linear maps |\n",
    "| **Large sparse ODE/PDE semi-discrete**    | `scipy.sparse.linalg.expm_multiply` inside a Krylov step | Matrix-free exponential integrators |\n",
    "\n",
    "---\n",
    "\n",
    "##### Minimal scalar example – exponential decay\n",
    "\n",
    "Solve $\\displaystyle\\frac{dy}{dt}=-k\\,y,\\;y(0)=1$:\n",
    "\n"
   ],
   "id": "212808181aedbdd5"
  },
  {
   "metadata": {
    "ExecuteTime": {
     "end_time": "2025-08-15T01:16:56.749289Z",
     "start_time": "2025-08-15T01:16:56.714902Z"
    }
   },
   "cell_type": "code",
   "source": [
    "from math import exp\n",
    "import numpy as np\n",
    "from scipy.integrate import solve_ivp\n",
    "\n",
    "k = 0.7\n",
    "decay = lambda t, y: -k * y              # f(y,t)\n",
    "sol   = solve_ivp(decay, t_span=[0, 10], y0=[1.0], rtol=1e-9, atol=1e-12)\n",
    "\n",
    "print(f\"y(10) ≈ {sol.y[0,-1]:.6f}  vs  exact {exp(-k*10):.6f}\")"
   ],
   "id": "7f6a3aad8b288192",
   "outputs": [
    {
     "name": "stdout",
     "output_type": "stream",
     "text": [
      "y(10) ≈ 0.000912  vs  exact 0.000912\n"
     ]
    }
   ],
   "execution_count": 4
  },
  {
   "metadata": {},
   "cell_type": "markdown",
   "source": [
    "#### Example Simple harmonic oscillator with interactive controls\n",
    "\n",
    "The simple harmonic oscillator (SHO) is a classic example of a dynamic system that can be described by a second-order ordinary differential equation (ODE). The SHO is characterized by its oscillatory motion, which can be described by the equation:\n",
    "\n",
    "$$ \\frac{d^2x}{dt^2} + \\omega^2 x = 0 $$\n",
    "\n",
    "where \\(x\\) is the displacement from the equilibrium position, \\(\\omega\\) is the angular frequency, and \\(t\\) is time. The SHO can be solved using numerical methods such as the Runge-Kutta method or the Verlet method. In this example, we will use the `scipy.integrate.solve_ivp` function to solve the SHO equation and visualize the results."
   ],
   "id": "5ddc7fc0ab1dd87"
  },
  {
   "metadata": {
    "ExecuteTime": {
     "end_time": "2025-08-15T01:16:56.978416Z",
     "start_time": "2025-08-15T01:16:56.789938Z"
    }
   },
   "cell_type": "code",
   "source": [
    "import numpy as np\n",
    "import matplotlib.pyplot as plt\n",
    "from ipywidgets import interact\n",
    "from scipy.integrate import solve_ivp\n",
    "\n",
    "def simulate(m=1.0, k=4.0, x0=1.0, v0=0.0, t_end=10.0):\n",
    "    omega = np.sqrt(k/m)\n",
    "    def sho(t, y):       # y = [x, v]\n",
    "        return [y[1], -k/m * y[0]]\n",
    "\n",
    "    sol = solve_ivp(sho, [0, t_end], [x0, v0], max_step=0.05)\n",
    "    t, x = sol.t, sol.y[0]\n",
    "\n",
    "    plt.figure(figsize=(6, 3))\n",
    "    plt.plot(t, x)\n",
    "    plt.xlabel('Time [s]')\n",
    "    plt.ylabel('Displacement [m]')\n",
    "    plt.title(f'SHO: m={m}, k={k}, ω={omega:.2f} rad/s')\n",
    "    plt.grid(True)\n",
    "    plt.show()\n",
    "\n",
    "interact(simulate,\n",
    "         m=(0.5, 5.0, 0.5),\n",
    "         k=(1.0, 10.0, 0.5),\n",
    "         x0=(-2.0, 2.0, 0.2),\n",
    "         v0=(-2.0, 2.0, 0.2),\n",
    "         t_end=(2.0, 20.0, 1.0));\n"
   ],
   "id": "719bd609e561484f",
   "outputs": [
    {
     "data": {
      "text/plain": [
       "interactive(children=(FloatSlider(value=1.0, description='m', max=5.0, min=0.5, step=0.5), FloatSlider(value=4…"
      ],
      "application/vnd.jupyter.widget-view+json": {
       "version_major": 2,
       "version_minor": 0,
       "model_id": "e64a2a853dc048758f4af2237e544f61"
      }
     },
     "metadata": {},
     "output_type": "display_data"
    }
   ],
   "execution_count": 5
  },
  {
   "metadata": {},
   "cell_type": "markdown",
   "source": [
    "### 2.2 Linear vs. non-linear\n",
    "\n",
    "|                               | Linear                                       | Non-linear                                      |\n",
    "|-------------------------------|----------------------------------------------|-------------------------------------------------|\n",
    "| Abstraction                   | $A\\,\\mathbf{x}= \\mathbf{b}$                  | $\\mathbf{f}(\\mathbf{x}) = \\mathbf{0}$           |\n",
    "| Typical mathematized examples | $x_1 + x_2 = 5^2$, <br>$\\frac{d^2y}{dx^2} = k y$ | $x_1^2 + x_2^2 = 5^2$,  <br>$\\frac{dy}{dx} = k y^2$ |\n",
    "| Examples in nature            | Mass–spring system at small deflection       | Duffing oscillator, orbital dynamics            |\n",
    "\n",
    "Linearity is an important concept in modelling, linear models are highly desirable because they are easier to analyse and solve. Linear methods are highly scalable to millions of variables and a great effort is made to find linear model representations or to linearize inherently non-linear natural processes. In contrast, non-linear models involve non-linear relationships between variables, making them more complex and often harder to solve.\n",
    "\n",
    "> **Definition:** Let $\\mathcal{X}$ be a vector space and $\\mathcal{F} : \\mathcal{X}\\to\\mathcal{X}$ a mapping that represents the model (algebraic or differential).\n",
    "$\\mathcal{F}$ is **linear** _iff_ it satisfies **superposition** for all $ \\mathbf{x},\\mathbf{y}\\in\\mathcal{X}$ and $ \\alpha\\in\\mathbb{R}$:\n",
    ">\n",
    "> 1. **Additivity**: $\\mathcal{F}(\\mathbf{x}+\\mathbf{y}) = \\mathcal{F}(\\mathbf{x}) + \\mathcal{F}(\\mathbf{y}) $\n",
    "> 2. **Homogeneity**: $ \\mathcal{F}(\\alpha\\,\\mathbf{x})  = \\alpha\\,\\mathcal{F}(\\mathbf{x}) $\n",
    "\n",
    "Identifying linearity is partricularly important since linear solvers are far faster and more accurate than non-linear solvers, in the examples below we demonstrate how to write both families in linear standard form.\n",
    "\n",
    "\n",
    "#### 2.2.1 Multivariable _linear_ static example\n",
    "\n",
    "Most models you will encounter will likely be written in non-standard form. It's important to be able to transform the model to standard forms that can be solved with powerful numerical libraries. Consider the following example:\n",
    "\n",
    "*Reaction forces in a satellite-bus support frame* _(Hibbeler, Engineering Mechanics – Statics, §16-4 “Method of Joints” (numbers differ) • Logan, A First Course in the Finite Element Method, Ex. 2-2)_\n",
    "\n",
    "A triangular support carries a payload mass \\(m\\) at node 3.\n",
    "Nodes 1 & 2 are fixed to the bus deck (see figure below).\n",
    "Assuming axial members only (truss), the static equilibrium is\n",
    "\n",
    "\n",
    "$$\n",
    "\\begin{aligned}\n",
    "  8\\times10^{5}\\,u_1 \\;-\\;2\\times10^{5}\\,u_2 \\;-\\;6\\times10^{5}\\,u_3 &= 0, \\\\[4pt]\n",
    " -2\\times10^{5}\\,u_1 \\;+\\;8\\times10^{5}\\,u_2 \\;-\\;-4\\times10^{5}\\,u_3 &= 0, \\\\[4pt]\n",
    " -6\\times10^{5}\\,u_1 \\;-\\;6\\times10^{5}\\,u_2 \\;+\\;1.2\\times10^{6}\\,u_3 &= -m g.\n",
    "\\end{aligned}\n",
    "$$\n",
    "\n",
    "In order to convert this to standard form we must first identify the variables we are trying to solve (in this case clearly $u_i$). For this course we will always use $x_i$ to denote scalar variables while the vector $\\mathbf{x}$ represents contains all the variables of our system $x_1, x_2, \\dots \\in \\mathbf{x}$. In linear systems these variables always have **coefficients** $a_{ij}$ which are contained in the **coefficient matrix** $a_{ij} \\in \\mathbf{A}$. Finally, the constant vector $b_i \\in \\mathbf{b}$ must always be moved to the right hand side of the system of equations in the **standard form**:\n",
    "\n",
    "$$\n",
    "\\mathbf{x} \\;=\\;\n",
    "\\begin{bmatrix} x_1\\\\ x_2\\\\ x_3 \\end{bmatrix}\n",
    "\\;=\\;\n",
    "\\begin{bmatrix} u_1\\\\ u_2\\\\ u_3 \\end{bmatrix},\n",
    "\\qquad\n",
    "\\mathbf{A} \\;=\\;\n",
    "\\begin{bmatrix}\n",
    "a_{11}&a_{12}&a_{13}\\\\\n",
    "a_{21}&a_{22}&a_{23}\\\\\n",
    "a_{31}&a_{32}&a_{33}\n",
    "\\end{bmatrix},\n",
    "\\qquad\n",
    "\\mathbf{b} \\;=\\;\n",
    "\\begin{bmatrix} 0\\\\ 0\\\\ -m g \\end{bmatrix},\n",
    "$$\n",
    "\n",
    "with coefficients defined by\n",
    "\n",
    "$$\n",
    "\\begin{aligned}\n",
    "a_{11}= 8{\\times}10^{5}, &\\; a_{12}= -2{\\times}10^{5}, &\\; a_{13}= -6{\\times}10^{5},\\\\\n",
    "a_{21}= -2{\\times}10^{5}, &\\; a_{22}=  8{\\times}10^{5}, &\\; a_{23}= -6{\\times}10^{5},\\\\\n",
    "a_{31}= -6{\\times}10^{5}, &\\; a_{32}= -6{\\times}10^{5}, &\\; a_{33}=  1.2{\\times}10^{6}.\n",
    "\\end{aligned}\n",
    "$$\n",
    "\n",
    "and constants:\n",
    "\n",
    "$$\n",
    "\\begin{aligned}\n",
    "b_{1}= 0,\\\\\n",
    "b_{2}= 0,\\\\\n",
    "b_{3}= - m g\n",
    "\\end{aligned}\n",
    "$$\n",
    "\n",
    "\n",
    "It is _always_ possible to convert linear systems to this standard form, then we are left with the matrix equation:\n",
    "\n",
    "$$\n",
    "\\boxed{\\;\n",
    "\\mathbf{A}\\,\\mathbf{x} = \\mathbf{b}\\;} .\n",
    "$$\n",
    "\n",
    "which can be solved easily using a standard _linear algebra solver_ such as numpy:\n"
   ],
   "id": "4a3d83c102a6314c"
  },
  {
   "metadata": {
    "ExecuteTime": {
     "end_time": "2025-08-15T01:16:57.206840Z",
     "start_time": "2025-08-15T01:16:57.201015Z"
    }
   },
   "cell_type": "code",
   "source": [
    "import numpy as np\n",
    "from scipy.linalg import solve\n",
    "A = np.array([[ 8e5, -2e5, -6e5],\n",
    "              [-2e5,  8e5, -4e5],\n",
    "              [-6e5, -6e5,  1.2e6]])\n",
    "m, g = 50.0, 9.81\n",
    "b = np.array([0, 0, -m*g])\n",
    "X = solve(A, b)           # solution for x_i\n",
    "X"
   ],
   "id": "a5a116c00078d540",
   "outputs": [
    {
     "data": {
      "text/plain": [
       "array([-0.002289 , -0.0017985, -0.0024525])"
      ]
     },
     "execution_count": 6,
     "metadata": {},
     "output_type": "execute_result"
    }
   ],
   "execution_count": 6
  },
  {
   "metadata": {},
   "cell_type": "markdown",
   "source": [
    "Linear algebra solvers are typically very fast and efficient, even for large systems with millions of variables. They are based on matrix factorization methods such as LU decomposition, which allow for efficient solution of linear systems. By contranst non-linear systems cannot be solved with linear algebra solvers, but rather require iterative methods such as Newton's method or fixed-point iteration such as those introduced earlier and wrapped into `scipy.optimize.fsolve` or `scipy.optimize.root`.\n",
    "\n",
    "### 2.2.3 Multivariable **non-linear** static example\n",
    "\n",
    "While every linear system can be reduced to the matrix form\n",
    "$\\mathbf{A}\\mathbf{x}=\\mathbf{b}$,\n",
    "**non-linear** static problems lead to *residual equations*\n",
    "$\\mathbf{F}(\\mathbf{x})=\\mathbf{0}$.\n",
    "We must therefore define a vector function $\\mathbf{F}$ instead of a coefficient matrix.\n",
    "\n",
    "Consider the steady-state heat balance of **two radiating CubeSat faces**\n",
    "(Gilmore, *Spacecraft Thermal Control Handbook*, Ch. 5).\n",
    "\n",
    "A face receives constant absorbed power $q_{\\text{in},i}$, radiates to deep space\n",
    "($T_\\text{space}\\simeq3\\,$K) and conducts to its neighbour:\n",
    "\n",
    "$$\n",
    "\\begin{aligned}\n",
    "0 &= q_{\\text{in},1}\n",
    "     -\\varepsilon\\sigma A\\!\\left(T_{1}^{4}-T_{\\text{space}}^{4}\\right)\n",
    "     -G\\,(T_{1}-T_{2}), \\\\[6pt]\n",
    "0 &= q_{\\text{in},2}\n",
    "     -\\varepsilon\\sigma A\\!\\left(T_{2}^{4}-T_{\\text{space}}^{4}\\right)\n",
    "     +G\\,(T_{1}-T_{2}).\n",
    "\\end{aligned}\n",
    "$$\n",
    "\n",
    "#### Identify variables and build the **standard non-linear form**\n",
    "\n",
    "* **Variables** $\\mathbf{x}=\\begin{bmatrix}x_1\\\\x_2\\end{bmatrix}\n",
    "                 =\\begin{bmatrix}T_1\\\\T_2\\end{bmatrix}$\n",
    "\n",
    "* **Residual vector** $\\mathbf{F}(\\mathbf{x})\n",
    "  =\\begin{bmatrix}F_1(\\mathbf{x})\\\\F_2(\\mathbf{x})\\end{bmatrix}$\n",
    "  with\n",
    "\n",
    "$$\n",
    "  \\begin{aligned}\n",
    "  F_1(\\mathbf{x}) &=\n",
    "     q_{\\text{in},1}\n",
    "    -\\varepsilon\\sigma A\\bigl(x_{1}^{4}-T_{\\text{space}}^{4}\\bigr)\n",
    "    -G\\,(x_{1}-x_{2}),\\\\[4pt]\n",
    "  F_2(\\mathbf{x}) &=\n",
    "     q_{\\text{in},2}\n",
    "    -\\varepsilon\\sigma A\\bigl(x_{2}^{4}-T_{\\text{space}}^{4}\\bigr)\n",
    "    +G\\,(x_{1}-x_{2}).\n",
    "  \\end{aligned}\n",
    "$$\n",
    "\n",
    "* **Standard form**\n",
    "\n",
    "$$\n",
    "    \\boxed{\\;\n",
    "      \\mathbf{F}(\\mathbf{x}) = \\mathbf{0}\\;}\n",
    "  \\qquad\\Longrightarrow\\qquad\n",
    "  \\text{solve for }\\mathbf{x}.\n",
    "$$\n",
    "\n",
    "This has to be solved with the more expensive `scipy.optimize.fsolve` family of solvers as we had before:"
   ],
   "id": "94c022637f9f290c"
  },
  {
   "metadata": {
    "ExecuteTime": {
     "end_time": "2025-08-15T01:16:57.269826Z",
     "start_time": "2025-08-15T01:16:57.264055Z"
    }
   },
   "cell_type": "code",
   "source": [
    "import numpy as np\n",
    "from scipy.optimize import fsolve\n",
    "\n",
    "# physical parameters\n",
    "eps   = 0.8                      # emissivity\n",
    "sigma = 5.670374e-8              # Stefan–Boltzmann, W m⁻² K⁻⁴\n",
    "A     = 0.04                     # 10 cm × 10 cm face, m²\n",
    "G     = 0.5                      # conductive coupling, W K⁻¹\n",
    "Tsp   = 3.0                      # deep-space sink temperature, K\n",
    "qin1, qin2 = 6.0, 2.0            # absorbed power, W\n",
    "\n",
    "def F(X):\n",
    "    x1, x2 = X\n",
    "    F1 = qin1 - eps*sigma*A*(x1**4 - Tsp**4) - G*(x1 - x2)\n",
    "    F2 = qin2 - eps*sigma*A*(x2**4 - Tsp**4) + G*(x1 - x2)\n",
    "    return [F1, F2]\n",
    "\n",
    "T_guess = [300.0, 290.0]         # initial guess, K\n",
    "T1, T2  = fsolve(F, T_guess)\n",
    "print(f\"T1 = {T1:.1f} K,   T2 = {T2:.1f} K\")"
   ],
   "id": "7150cedaa980c6ab",
   "outputs": [
    {
     "name": "stdout",
     "output_type": "stream",
     "text": [
      "T1 = 218.5 K,   T2 = 214.8 K\n"
     ]
    }
   ],
   "execution_count": 7
  },
  {
   "metadata": {},
   "cell_type": "markdown",
   "source": [
    "#### Example: Linear vs non-linear response of a spring\n",
    "\n",
    "Below we demonstrate the difference between linear and non-linear response of a spring system. The linear spring is described by Hooke's law, while the Duffing oscillator is a non-linear system that exhibits more complex behavior. The Duffing oscillator is a well-known example of a non-linear system that can exhibit chaotic behavior under certain conditions.\n",
    "The linear spring is described by the equation \\(F = kx\\), where \\(F\\) is the force, \\(k\\) is the spring constant, and \\(x\\) is the displacement from the equilibrium position. The Duffing oscillator is described by the equation:\n",
    "$$\\frac{d^2x}{dt^2} + \\delta \\frac{dx}{ dt} + \\alpha x + \\beta x^3 = \\gamma \\cos(\\omega t)$$\n",
    "where \\(\\delta\\) is the damping coefficient, \\(\\alpha\\) and \\(\\beta\\) are the linear and non-linear stiffness coefficients, \\(\\gamma\\) is the amplitude of the driving force, and \\(\\omega\\) is the frequency of the driving force.\n",
    "The example below uses `scipy.integrate.solve_ivp` to solve both systems and plot their responses over time. The linear spring will exhibit simple harmonic motion, while the Duffing oscillator will show more complex behavior, especially for larger driving forces or non-linear stiffness coefficients."
   ],
   "id": "2b5deeb50cad86dd"
  },
  {
   "metadata": {
    "collapsed": false,
    "ExecuteTime": {
     "end_time": "2025-08-15T01:16:57.680570Z",
     "start_time": "2025-08-15T01:16:57.321765Z"
    }
   },
   "cell_type": "code",
   "source": [
    "import numpy as np\n",
    "import matplotlib.pyplot as plt\n",
    "from scipy.integrate import solve_ivp\n",
    "\n",
    "def linear_spring(t, y, k=1.0, m=1.0):\n",
    "    x, v = y\n",
    "    return [v, -k/m * x]\n",
    "\n",
    "def duffing(t, y, alpha=1.0, beta=5.0, delta=0.02, gamma=8.0, omega=1.2):\n",
    "    x, v = y\n",
    "    return [v, -delta*v - alpha*x - beta*x**3 + gamma*np.cos(omega*t)]\n",
    "\n",
    "sol_lin = solve_ivp(linear_spring, [0, 20], [1, 0], max_step=0.05)\n",
    "sol_non = solve_ivp(duffing,       [0, 20], [1, 0], max_step=0.05)\n",
    "\n",
    "plt.plot(sol_lin.t, sol_lin.y[0], label=\"Linear spring\")\n",
    "plt.plot(sol_non.t, sol_non.y[0], label=\"Duffing\")\n",
    "plt.xlabel(\"t\"); plt.ylabel(\"x(t)\")\n",
    "plt.legend(); plt.title(\"Linear vs non-linear response\");"
   ],
   "id": "7bbf2b0faf5317c6",
   "outputs": [
    {
     "data": {
      "text/plain": [
       "<Figure size 640x480 with 1 Axes>"
      ],
      "image/png": "[encoded data removed]"
     },
     "metadata": {},
     "output_type": "display_data"
    }
   ],
   "execution_count": 8
  },
  {
   "metadata": {},
   "cell_type": "markdown",
   "source": [
    "#### Example: Linearized satellite relative motion\n",
    "In this example, we will demonstrate the linearized relative motion of a satellite in orbit. The Hill–Clohessy–Wiltshire (HCW) equations describe the relative motion of a chaser satellite about a chief on a circular orbit are a set of linearized equations that describe the relative motion of a satellite in orbit:\n",
    "\n",
    "$$\n",
    "\\begin{aligned}\n",
    "\\ddot x & =\\;\\;  3n^{2}x + 2n\\dot y + a_x,\\\\\n",
    "\\ddot y & = -2n\\dot x          + a_y,\\\\\n",
    "\\ddot z & = -n^{2}z            + a_z,\n",
    "\\end{aligned}\n",
    "\\qquad n \\;=\\;\\sqrt{\\dfrac{\\mu}{a^{3}}}\\;,\n",
    "$$\n",
    "\n",
    "where\n",
    "$(x,y,z) $ are radial, along-track, cross-track offsets,\n",
    "$ n $ the mean motion of the chief,\n",
    "$ a_{x,y,z}$ thrust accelerations.\n",
    "\n",
    "\n",
    "The example below uses `scipy.integrate.odeint` to solve the hcw equations and plot the relative motion of the satellite."
   ],
   "id": "747107102805442d"
  },
  {
   "metadata": {
    "ExecuteTime": {
     "end_time": "2025-08-15T01:16:57.840120Z",
     "start_time": "2025-08-15T01:16:57.691090Z"
    }
   },
   "cell_type": "code",
   "source": [
    "import numpy as np\n",
    "from scipy.integrate import odeint\n",
    "import matplotlib.pyplot as plt\n",
    "\n",
    "def hcw(y, t, n):\n",
    "    return [y[3], y[4], y[5], 3*n**2*y[0] + 2*n*y[4], -2*n*y[3], -n**2*y[2]]\n",
    "\n",
    "n = 0.001  # Orbital rate\n",
    "y0 = [0.01, 0, 0, 0, 0.001, 0]\n",
    "t = np.linspace(0, 3600*2, 1000)  # 2 orbits\n",
    "sol = odeint(hcw, y0, t, args=(n,))\n",
    "plt.plot(sol[:,0], sol[:,1])\n",
    "plt.title('Linearized Satellite Relative Motion')\n",
    "plt.xlabel('Along-track (km)')\n",
    "plt.ylabel('Radial (km)')\n",
    "plt.show()"
   ],
   "id": "a14ef4de0eac816e",
   "outputs": [
    {
     "data": {
      "text/plain": [
       "<Figure size 640x480 with 1 Axes>"
      ],
      "image/png": "[encoded data removed]"
     },
     "metadata": {},
     "output_type": "display_data"
    }
   ],
   "execution_count": 9
  },
  {
   "metadata": {},
   "cell_type": "markdown",
   "source": [
    "### 2.3 Coupled vs. uncoupled\n",
    "\n",
    "Models can be classified based on the degree of interaction between their variables. In uncoupled models, variables or equations evolve independently, allowing for straightforward decomposition and solution. Coupled models, however, feature interactions where changes in one variable directly affect others, often leading to more complex behavior that requires simultaneous solution techniques. This distinction is crucial in computational engineering, as coupling can introduce phenomena like resonance or instability, which are observable through changes in system eigenvalues (e.g., eigenvalue splitting when weak coupling is added to an otherwise uncoupled system).\n",
    "\n",
    "|                               | Uncoupled                                    | Coupled                                         |\n",
    "|-------------------------------|----------------------------------------------|-------------------------------------------------|\n",
    "| Abstraction                   | $\\mathbf{f}(\\mathbf{x}) = \\begin{bmatrix} f_1(x_1) \\\\ f_2(x_2) \\\\ \\vdots \\\\ f_n(x_n) \\end{bmatrix} = \\mathbf{0}$ or independent ODEs | $\\mathbf{f}(\\mathbf{x}) = \\mathbf{0}$ where components of $\\mathbf{f}$ depend on multiple $x_i$ |\n",
    "| Typical mathematized examples | $x_1 = 5$, $x_2 = 3$ (independent equations); <br>$\\frac{dx_1}{dt} = k_1 x_1$, $\\frac{dx_2}{dt} = k_2 x_2$ (independent ODEs) | $x_1 + x_2 = 5$, $x_1 - x_2 = 3$; <br>$\\frac{dx_1}{dt} = k_1 x_1 + k_2 x_2$, $\\frac{dx_2}{dt} = k_3 x_1 + k_4 x_2$ |\n",
    "| Examples in nature            | Three orthogonal resistors in parallel on an electrical breadboard (currents independent) | 3D attitude dynamics of a spacecraft, where roll, pitch, and yaw angles interact via inertial cross-products |\n",
    "\n",
    "> **Definition:** Let $\\mathcal{X}$ be a vector space and $\\mathcal{F} : \\mathcal{X} \\to \\mathcal{X}$ a mapping representing the model (algebraic or differential). The model is **uncoupled** if $\\mathcal{F}$ can be decomposed into independent sub-mappings $\\mathcal{F}_i : \\mathcal{X}_i \\to \\mathcal{X}_i$ such that $\\mathcal{F}(\\mathbf{x}) = (\\mathcal{F}_1(x_1), \\mathcal{F}_2(x_2), \\dots, \\mathcal{F}_n(x_n))$ where the $\\mathcal{X}_i$ are disjoint subspaces. Otherwise, it is **coupled**, meaning at least one component of $\\mathcal{F}$ depends on variables from multiple subspaces.\n",
    ">\n",
    "> (Observe how eigenvalues split when coupling is introduced, e.g., in a mass spring system where adding a cross spring shifts degenerate modes.)\n",
    "\n",
    "\n",
    "You will learn about coupled vs. uncoupled systems in more detail in Week 3, where we will also discuss the implications of coupling on system stability and dynamics. For now it is important to understand that uncoupled systems can be solved independently, while coupled systems require simultaneous solution techniques, such as matrix methods or iterative solvers."
   ],
   "id": "8ab0462c698200d5"
  },
  {
   "metadata": {},
   "cell_type": "markdown",
   "source": [
    "### 2.4 Symmetry\n",
    "\n",
    "Models often exhibit symmetries, which are invariances under certain transformations (e.g., rotations, translations, or time shifts). Recognizing symmetry simplifies computations by reducing degrees of freedom, enabling the use of group theory or conservation laws. In computational engineering, symmetries lead to efficient algorithms, such as modal analysis in structural dynamics or exploiting rotational invariance in orbital mechanics. This will be expanded in Week 3 with connections to conservation laws via Noether’s theorem, which links continuous symmetries to conserved quantities like energy or momentum.\n",
    "\n",
    "|                               | Symmetric                                    | Asymmetric                                      |\n",
    "|-------------------------------|----------------------------------------------|-------------------------------------------------|\n",
    "| Abstraction                   | Model invariant under group action $G$, i.e., $\\mathcal{F}(g \\cdot \\mathbf{x}) = g \\cdot \\mathcal{F}(\\mathbf{x})$ for $g \\in G$ | No such invariance under non-trivial transformations |\n",
    "| Typical mathematized examples | Laplace's equation in a sphere: $\\nabla^2 \\phi = 0$ (rotational symmetry); <br>Hamiltonian systems with time-independence (energy conservation) | $\\frac{dx}{dt} = x + t$ (breaks time-translation symmetry); <br>Non-uniform truss with irregular loading |\n",
    "| Examples in nature            | Planetary orbits under central gravity (rotational symmetry) | Asymmetric airfoil in aerodynamics (directional lift dependence) |\n",
    "\n",
    "> **Definition:** Let $\\mathcal{X}$ be a vector space, $G$ a symmetry group (e.g., rotations $SO(3)$ or translations $\\mathbb{R}^3$), and $\\cdot : G \\times \\mathcal{X} \\to \\mathcal{X}$ a group action. A model mapping $\\mathcal{F} : \\mathcal{X} \\to \\mathcal{X}$ is **symmetric** under $G$ if $\\mathcal{F}(g \\cdot \\mathbf{x}) = g \\cdot \\mathcal{F}(\\mathbf{x})$ for all $g \\in G$ and $\\mathbf{x} \\in \\mathcal{X}$. It is **asymmetric** if no non-trivial symmetry group exists.\n",
    ">\n",
    "> (To be expanded in Week 3 when we discuss conservation laws and Noether’s theorem.)\n",
    "\n",
    "Identifying symmetries in models is crucial for simplifying computations and understanding the underlying physics. A rule of thumb that allows to be easily identified in a model is that if the indices of the variables can be interchanged then the variables are symmetric. For example, in:\n",
    "\n",
    "$$\n",
    "f(x_1, x_2, x_3) = \\sum_{i=1}^3 x_i^2  +  \\prod_{i=1}^3 sin(x_i) = x_1^2 + x_2^2 + x_3^2 + \\sin(x_1) \\sin(x_2) \\sin(x_3)\n",
    "$$\n",
    "the variables $x_i$ can be interchanged without changing the form of function, indicating symmetry. Natural symmetries can also lead to conservation laws, which are powerful tools in both analytical and numerical methods. In computational engineering, exploiting symmetries can significantly reduce the complexity of simulations, leading to faster and more efficient algorithms. You will learn more about symmetries in Week 7 and 9 where we exploit symmetries to drastically reduce the cost of computational models.\n",
    "\n",
    "#### Using *SymPy* to spot simple symmetries\n",
    "\n",
    "Below is a minimal utility that checks whether a symbolic expression stays unchanged under\n",
    "\n",
    "1. Permutations of a list of variables (useful for detecting interchange\n",
    "   symmetry $x_i \\leftrightarrow x_j$), and\n",
    "2. User-supplied transformations (e.g. planar rotations).\n",
    "\n"
   ],
   "id": "a853de20e5160c09"
  },
  {
   "metadata": {
    "ExecuteTime": {
     "end_time": "2025-08-15T01:16:58.388743Z",
     "start_time": "2025-08-15T01:16:57.850258Z"
    }
   },
   "cell_type": "code",
   "source": [
    "import sympy as sp\n",
    "from itertools import permutations\n",
    "\n",
    "# 1.  Generic invariance tester\n",
    "def is_invariant(expr, transform):\n",
    "    \"\"\"\n",
    "    Return True if expr(variables) == expr after applying `transform`,\n",
    "    where `transform` is a dict {old_symbol: new_symbol_or_expr}.\n",
    "    \"\"\"\n",
    "    transformed = expr.xreplace(transform)\n",
    "    return sp.simplify(expr - transformed) == 0\n",
    "\n",
    "# 2.  Convenience wrapper for permutation symmetry\n",
    "def permutation_symmetries(expr, variables):\n",
    "    \"\"\"\n",
    "    List all permutations of `variables` that leave `expr` unchanged.\n",
    "    \"\"\"\n",
    "    invariants = []\n",
    "    for p in permutations(variables):\n",
    "        mapping = dict(zip(variables, p))\n",
    "        if is_invariant(expr, mapping):\n",
    "            invariants.append(p)\n",
    "    return invariants\n",
    "\n"
   ],
   "id": "2b5de371de1633ec",
   "outputs": [],
   "execution_count": 10
  },
  {
   "metadata": {},
   "cell_type": "markdown",
   "source": [
    "#### Example: permutation symmetry in f(x1,x2,x3)\n",
    "\n",
    "Below we expect all 6 permutations in the full S₃ symmetry group to be found, since the expression is symmetric in all three variables.\n",
    "$$\n",
    "f(x_1, x_2, x_3) = x_1^2 + x_2^2 + x_3^2 + \\sin(x_1) \\sin(x_2) \\sin(x_3)\n",
    "$$\n",
    "\n",
    "This is a simple example of how to use the `permutation_symmetries` function to find symmetries in a symbolic expression.\n"
   ],
   "id": "6b736ece44a2aa8"
  },
  {
   "metadata": {
    "ExecuteTime": {
     "end_time": "2025-08-15T01:16:58.450911Z",
     "start_time": "2025-08-15T01:16:58.401852Z"
    }
   },
   "cell_type": "code",
   "source": [
    "x1, x2, x3 = sp.symbols('x1 x2 x3')\n",
    "expr = (x1**2 + x2**2 + x3**2) + sp.sin(x1)*sp.sin(x2)*sp.sin(x3)\n",
    "\n",
    "perms = permutation_symmetries(expr, (x1, x2, x3))\n",
    "print(\"Permutations that keep the expression unchanged:\")\n",
    "for p in perms:\n",
    "    print(\"  \", p)\n"
   ],
   "id": "3446b1cc6981320b",
   "outputs": [
    {
     "name": "stdout",
     "output_type": "stream",
     "text": [
      "Permutations that keep the expression unchanged:\n",
      "   (x1, x2, x3)\n",
      "   (x1, x3, x2)\n",
      "   (x2, x1, x3)\n",
      "   (x2, x3, x1)\n",
      "   (x3, x1, x2)\n",
      "   (x3, x2, x1)\n"
     ]
    }
   ],
   "execution_count": 11
  },
  {
   "metadata": {},
   "cell_type": "markdown",
   "source": [
    "#### Example: rotational symmetry  f(r, \\theta)  in 2-D\n",
    "The function below depends only on $r$ and not on the angle $\\theta$ despite this being declared as a variable in the mode:\n",
    "\n",
    "$$ r = \\sqrt{x^2 + y^2} $$\n",
    "\n",
    "$$f(r, \\theta) = e^{-r}$$\n",
    "\n",
    "This is a simple example of how to use the `is_invariant` function to check for rotational symmetry in a symbolic expression. The function checks whether the expression remains unchanged under the specified transformation, which in this case is a rotation in 2D space."
   ],
   "id": "6e97a2ffadbf5a9"
  },
  {
   "metadata": {
    "ExecuteTime": {
     "end_time": "2025-08-15T01:16:58.940577Z",
     "start_time": "2025-08-15T01:16:58.467479Z"
    }
   },
   "cell_type": "code",
   "source": [
    "x, y, θ = sp.symbols('x y θ')\n",
    "r = sp.sqrt(x**2 + y**2)\n",
    "f_r = sp.exp(-r)\n",
    "\n",
    "rotation = {x:  x*sp.cos(θ) - y*sp.sin(θ),\n",
    "            y:  x*sp.sin(θ) + y*sp.cos(θ)}\n",
    "\n",
    "print(\"Rotationally invariant?\", is_invariant(f_r, rotation))\n"
   ],
   "id": "4cad92def5e96861",
   "outputs": [
    {
     "name": "stdout",
     "output_type": "stream",
     "text": [
      "Rotationally invariant? True\n"
     ]
    }
   ],
   "execution_count": 12
  },
  {
   "metadata": {},
   "cell_type": "markdown",
   "source": [
    "# Further reading\n",
    "\n",
    "[Jordan of Nemore, Scientia de Ponderibus, 1565](https://echo-old.mpiwg-berlin.mpg.de/ECHOdocuView?url=/permanent/archimedes_repository/large/jorda_ratio_049_la_1565/index.meta&tocMode=thumbs&viewMode=text_image&pn=5&start=1)\n"
   ],
   "id": "d9f61ea256ecf2aa"
  },
  {
   "metadata": {},
   "cell_type": "markdown",
   "source": [
    "In the next section we will discuss degrees of freedom and how to count them in models.\n",
    "\n",
    "\n",
    "```{contents}\n",
    ":local:\n",
    ":depth: 3"
   ],
   "id": "396357552e7b0adf"
  },
  {
   "metadata": {
    "ExecuteTime": {
     "end_time": "2025-08-15T01:16:58.949408Z",
     "start_time": "2025-08-15T01:16:58.947363Z"
    }
   },
   "cell_type": "code",
   "source": "",
   "id": "b1db728e6df902b3",
   "outputs": [],
   "execution_count": null
  }
 ],
 "metadata": {
  "kernelspec": {
   "display_name": "Python 3 (ipykernel)",
   "language": "python",
   "name": "python3"
  }
 },
 "nbformat": 4,
 "nbformat_minor": 5
}
