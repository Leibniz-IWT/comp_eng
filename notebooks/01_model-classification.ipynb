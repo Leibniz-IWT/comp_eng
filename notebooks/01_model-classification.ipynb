{
 "cells": [
  {
   "cell_type": "markdown",
   "id": "60f36340",
   "metadata": {},
   "source": [
    "# Model classification I – building blocks\n",
    "\n",
    "<div style=\"text-align: center; font-style: italic;\">\n",
    "\n",
    "“A problem well stated is a problem half-solved.”\n",
    "\n",
    "</div>\n",
    "\n",
    "<div style=\"text-align: right;\">\n",
    "\n",
    "— Charles F. Kettering\n",
    "\n",
    "</div>\n",
    "\n",
    "\n",
    "## 1 What are models?  \n",
    "\n",
    "### 1.1 From toy cathedrals to floating point arithmetic\n",
    "\n",
    "<div style=\"text-align: center; font-style: italic;\">\n",
    "To measure is to know.\n",
    "</div>\n",
    "\n",
    "<div style=\"text-align: right;\">\n",
    "\n",
    "— William Thomson (Lord Kelvin), 1883\n",
    "\n",
    "</div>\n",
    "\n",
    "\n",
    "While we often think of models as mathematical equations, the mathematication of nature is a relatively recent development in the history of science and engineering. Models have existed in various forms for centuries, evolving from physical constructions to modern abstract mathematical representations. Some historical milestones in the practice of modelling include:\n",
    "\n",
    "#### **Medieval (Physical (literal) models)**\n",
    "  Medieval master-builders often erected stick-and-string scale models of vaults and domes to study thrust lines.  \n",
    "  Brunelleschi’s herringbone brick pattern for the Florence Duomo (1430s) was tested on a wooden mock-up before construction.  \n",
    "  These tangible artefacts embodied the equilibrium of forces as a precursor to statics theory wh \n",
    "\n",
    "#### **Early mathematical models (smooth models)**  \n",
    "  - **Jordanus de Nemore** (13 th c.) treated levers and centres of gravity with geometric abstraction.  \n",
    "  - **Leonhard Euler** (1740s) and **D’Alembert** introduced differential equations to describe beams, fluids, and celestial mechanics.  \n",
    "    Euler’s equation for a buckling column is still taught today.\n",
    "\n",
    "#### **Modern, discrete models (numerical models)**\n",
    "  - Early hand computations by Isaac Newton and others laid the groundwork for numerical methods.  \n",
    "  - First general purpose high level programming language Plankalkül (1942), Claude Shannon’s information theory (1948) and von Neumann’s stored-program computer made it routine to encode physics directly in software.\n",
    "\n",
    "Our focus in this module is on discrete or digital models, which are fundamentally different to both physical and smooth models in a subtle and important way: while smooth mathematical models can often admit exact solutions, discretised models -by contrast- rarely admit exact solutions. This is not only due to numerical errors, but due to the fact that these models live in an entirely different space and number system. E.g. smooth models often have scalar variables represented by real numbers ($\\mathbb{R}^n$) which is _not_ a computational structure! By contrast models for control systems often rely on a discrete $\\mathbb{Z}^n$ representation of scalar variables arising from inherently discrete measurements in the control loop.\n",
    "\n",
    "For the purposee of this course, we will define a model as follows:\n",
    "> \n",
    "> **Definition:** A *model* is an abstraction which is deliberate simplification of reality that allows quantitative prediction.\n",
    "\n",
    "In order to make predictions with *computational models*, it is essential to correclty classify them in order to find the correct abstracted method for their solutions which in turn is used to predict the outcome of systems such as the dynamics spacecraft, robots, or chemical processes, Later we will study the optimization (design, parameterisation) and control of systems.\n",
    "\n",
    "---\n",
    "\n",
    "## 2 Classification of models\n",
    "\n",
    "Models admit different *structures* which can be classified in order to gain better understanding of their properities. Once a model has been classified it becomes easier to compute. Understanding the limitations of state-of-the-art methods used to solve different model types is essential to both model development and computational efficiency of solutions\n",
    "\n",
    "\n",
    "### 2.1 Linear vs. non-linear  \n",
    "\n",
    "|                    | Linear                                       | Non-linear                                    |\n",
    "|--------------------|----------------------------------------------|-----------------------------------------------|\n",
    "| Abstraction        | $A\\,\\mathbf{x}= \\mathbf{b}$                  | $\\mathbf{f}(\\mathbf{x}) = \\mathbf{0}$         |\n",
    "| Examples in math   | $x_1 + x_2 = 5^2$, $\\frac{d^2y}{dx^2} = k y$ | $x_1^2 + x_2^2 = 5^2$, $\\frac{dy}{dx} = k y^2 |\n",
    "| Examples in nature | Mass–spring system at small deflection       | Duffing oscillator, orbital dynamics          |\n",
    "\n",
    "Linearity is an important concept in modelling, linear models are highly desirable because they are easier to analyse and solve. Linear methods are highly scalable to millions of variables and a great effort is made to find linear model respresentations or to linearize inherently non-linear natural processes. In contrast, non-linear models involve non-linear relationships between variables, making them more complex and often harder to solve. \n",
    "\n",
    "Lorem Ipsum\n"
   ]
  },
  {
   "cell_type": "code",
   "execution_count": 1,
   "id": "793162836370726d",
   "metadata": {
    "ExecuteTime": {
     "end_time": "2025-07-31T22:53:09.582254Z",
     "start_time": "2025-07-31T22:53:09.324317Z"
    },
    "collapsed": false
   },
   "outputs": [
    {
     "ename": "ModuleNotFoundError",
     "evalue": "No module named 'matplotlib'",
     "output_type": "error",
     "traceback": [
      "\u001b[31m---------------------------------------------------------------------------\u001b[39m",
      "\u001b[31mModuleNotFoundError\u001b[39m                       Traceback (most recent call last)",
      "\u001b[36mCell\u001b[39m\u001b[36m \u001b[39m\u001b[32mIn[1]\u001b[39m\u001b[32m, line 2\u001b[39m\n\u001b[32m      1\u001b[39m \u001b[38;5;28;01mimport\u001b[39;00m\u001b[38;5;250m \u001b[39m\u001b[34;01mnumpy\u001b[39;00m\u001b[38;5;250m \u001b[39m\u001b[38;5;28;01mas\u001b[39;00m\u001b[38;5;250m \u001b[39m\u001b[34;01mnp\u001b[39;00m\n\u001b[32m----> \u001b[39m\u001b[32m2\u001b[39m \u001b[38;5;28;01mimport\u001b[39;00m\u001b[38;5;250m \u001b[39m\u001b[34;01mmatplotlib\u001b[39;00m\u001b[34;01m.\u001b[39;00m\u001b[34;01mpyplot\u001b[39;00m\u001b[38;5;250m \u001b[39m\u001b[38;5;28;01mas\u001b[39;00m\u001b[38;5;250m \u001b[39m\u001b[34;01mplt\u001b[39;00m\n\u001b[32m      3\u001b[39m \u001b[38;5;28;01mfrom\u001b[39;00m\u001b[38;5;250m \u001b[39m\u001b[34;01mscipy\u001b[39;00m\u001b[34;01m.\u001b[39;00m\u001b[34;01mintegrate\u001b[39;00m\u001b[38;5;250m \u001b[39m\u001b[38;5;28;01mimport\u001b[39;00m solve_ivp\n\u001b[32m      5\u001b[39m \u001b[38;5;28;01mdef\u001b[39;00m\u001b[38;5;250m \u001b[39m\u001b[34mlinear_spring\u001b[39m(t, y, k=\u001b[32m1.0\u001b[39m, m=\u001b[32m1.0\u001b[39m):\n",
      "\u001b[31mModuleNotFoundError\u001b[39m: No module named 'matplotlib'"
     ]
    }
   ],
   "source": [
    "import numpy as np\n",
    "import matplotlib.pyplot as plt\n",
    "from scipy.integrate import solve_ivp\n",
    "\n",
    "def linear_spring(t, y, k=1.0, m=1.0):\n",
    "    x, v = y\n",
    "    return [v, -k/m * x]\n",
    "\n",
    "def duffing(t, y, alpha=1.0, beta=5.0, delta=0.02, gamma=8.0, omega=1.2):\n",
    "    x, v = y\n",
    "    return [v, -delta*v - alpha*x - beta*x**3 + gamma*np.cos(omega*t)]\n",
    "\n",
    "sol_lin = solve_ivp(linear_spring, [0, 20], [1, 0], max_step=0.05)\n",
    "sol_non = solve_ivp(duffing,       [0, 20], [1, 0], max_step=0.05)\n",
    "\n",
    "plt.plot(sol_lin.t, sol_lin.y[0], label=\"Linear spring\")\n",
    "plt.plot(sol_non.t, sol_non.y[0], label=\"Duffing\")\n",
    "plt.xlabel(\"t\"); plt.ylabel(\"x(t)\")\n",
    "plt.legend(); plt.title(\"Linear vs non-linear response\");"
   ]
  },
  {
   "cell_type": "markdown",
   "id": "1d427f7d9dfe9725",
   "metadata": {
    "collapsed": false
   },
   "source": [
    "Linearisation Around an equilibrium $x_0$, expand $f(x)$ in a Taylor series and keep the first derivative:\n",
    "$f(x)\\approx f(x_0)+f'(x_0)(x-x_0)$. You will use this trick repeatedly for control design (Week 11).\n",
    "\n",
    "### 2.2 Coupled vs. uncoupled\n",
    "Uncoupled: variables evolve independently.\n",
    "Example: three orthogonal resistors in an electrical breadboard.\n",
    "\n",
    "Coupled: state variables interact.\n",
    "Example: 3-D attitude dynamics where roll, pitch, yaw share inertial products.\n",
    "\n",
    "(Observe how eigenvalues split when coupling is introduced.)\n",
    "\n",
    "\n",
    "### 2.3 Symmetry\n",
    "\n",
    "Lorem Ipsum \n",
    "(to be expanded in Week 3 when we discuss conservation laws and Noether’s theorem)\n",
    "\n",
    "\n",
    "### 2.4 Static vs. dynamic\n",
    "Static: time is absent; solve for equilibrium.\n",
    "– Truss analysis in civil engineering\n",
    "– Steady-state heat conduction\n",
    "\n",
    "Dynamic: variables evolve in time.\n",
    "– Launch trajectory optimisation\n",
    "– Satellite attitude slew manoeuvre"
   ]
  },
  {
   "cell_type": "code",
   "execution_count": null,
   "id": "a7b8a763ae5b42f",
   "metadata": {
    "collapsed": false
   },
   "outputs": [],
   "source": [
    "# Static beam deflection under point load (Euler-Bernoulli):\n",
    "import sympy as sp\n",
    "x = sp.symbols('x')\n",
    "E, I, L, P = sp.symbols('E I L P')\n",
    "w = (P*x**2)/(6*E*I)*(3*L - x)   # closed-form\n",
    "sp.simplify(w)"
   ]
  },
  {
   "cell_type": "code",
   "execution_count": null,
   "id": "e20dfc2f219160a5",
   "metadata": {
    "collapsed": false
   },
   "outputs": [],
   "source": [
    "import numpy as np\n",
    "import matplotlib.pyplot as plt\n",
    "\n",
    "# Cantilever beam parameters\n",
    "L = 2.0          # length in meters\n",
    "P = 1_000.0      # point load at the free end, in Newtons\n",
    "E = 200e9        # Young's modulus for steel, in Pascals\n",
    "I = 1e-6         # second moment of area, in m^4 (slender beam)\n",
    "\n",
    "# Deflection formula for a cantilever with end load: w(x) = P x^2 (3L - x) / (6 E I)\n",
    "x = np.linspace(0, L, 250)\n",
    "w = P * x**2 * (3*L - x) / (6 * E * I)   # meters\n",
    "w_mm = w * 1e3                            # convert to millimetres for readability\n",
    "\n",
    "plt.figure()\n",
    "plt.plot(x, w_mm)\n",
    "plt.gca().invert_yaxis()  # downward deflection plotted downward\n",
    "plt.xlabel(\"Position x (m)\")\n",
    "plt.ylabel(\"Deflection w (mm)\")\n",
    "plt.title(\"Cantilever beam deflection under end load (P = 1kN, L = 2m)\")\n",
    "plt.grid(True)\n",
    "plt.show()\n"
   ]
  },
  {
   "cell_type": "code",
   "execution_count": null,
   "id": "afe745eb0b14c5c7",
   "metadata": {
    "collapsed": false
   },
   "outputs": [],
   "source": []
  }
 ],
 "metadata": {
  "kernelspec": {
   "display_name": "Python 3 (ipykernel)",
   "language": "python",
   "name": "python3"
  }
 },
 "nbformat": 4,
 "nbformat_minor": 5
}
