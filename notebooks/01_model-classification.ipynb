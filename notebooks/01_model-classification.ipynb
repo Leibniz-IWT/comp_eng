{
 "cells": [
  {
   "cell_type": "markdown",
   "id": "60f36340",
   "metadata": {},
   "source": [
    "# Model classification I – building blocks\n",
    "\n",
    "<div style=\"text-align: center; font-style: italic;\">\n",
    "\n",
    "“A problem well stated is a problem half-solved.”\n",
    "\n",
    "</div>\n",
    "\n",
    "<div style=\"text-align: right;\">\n",
    "\n",
    "— Charles F. Kettering\n",
    "\n",
    "</div>"
   ]
  },
  {
   "cell_type": "code",
   "outputs": [],
   "source": [],
   "metadata": {
    "collapsed": false
   },
   "id": "793162836370726d"
  }
 ],
 "metadata": {
  "kernelspec": {
   "display_name": "Python 3",
   "name": "python3"
  }
 },
 "nbformat": 4,
 "nbformat_minor": 5
}
