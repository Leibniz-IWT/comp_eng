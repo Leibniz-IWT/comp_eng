{
 "cells": [
  {
   "cell_type": "markdown",
   "id": "8c142b81",
   "metadata": {},
   "source": [
    "# 02 Dof-Analysis\n",
    "\n",
    "_Placeholder – content coming soon._\n",
    "\n",
    "\n",
    "\n",
    "## 1. Degrees of freedom (DOF) analysis, constraints\n",
    "\n",
    "[E.g. count DOFs of models using sympy]\n",
    "\n",
    "## 2. Conservation rules & force balances\n",
    "\n",
    "In the first part of this chapter we classified models that were already established. In this section we focuss on how models are derived from engineering principles in the first place. Common principles for modelling systems derive from conservation rules, force balances and in engineering\n",
    "\n",
    "## 3. Determined vs. under/over-determined problems\n",
    "## 4. Control degrees of freedom"
   ]
  },
  {
   "metadata": {},
   "cell_type": "markdown",
   "source": "",
   "id": "6f99dfec80ff496b"
  }
 ],
 "metadata": {
  "kernelspec": {
   "display_name": "Python 3",
   "name": "python3"
  }
 },
 "nbformat": 4,
 "nbformat_minor": 5
}
