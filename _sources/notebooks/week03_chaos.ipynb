{
 "cells": [
  {
   "cell_type": "markdown",
   "id": "5d03d103",
   "metadata": {},
   "source": [
    "# Week03 Chaos\n",
    "\n",
    "_Placeholder – content coming soon._"
   ]
  }
 ],
 "metadata": {
  "kernelspec": {
   "display_name": "Python 3",
   "name": "python3"
  }
 },
 "nbformat": 4,
 "nbformat_minor": 5
}
